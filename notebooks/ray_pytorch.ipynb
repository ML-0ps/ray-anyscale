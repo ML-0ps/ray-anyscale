{
 "cells": [
  {
   "cell_type": "markdown",
   "metadata": {},
   "source": [
    "# Pytorch Ray implementation\n",
    "- Distributed Training (https://docs.ray.io/en/latest/train/getting-started-pytorch.html)"
   ]
  },
  {
   "cell_type": "code",
   "execution_count": null,
   "metadata": {},
   "outputs": [],
   "source": []
  },
  {
   "cell_type": "code",
   "execution_count": 6,
   "metadata": {},
   "outputs": [
    {
     "name": "stdout",
     "output_type": "stream",
     "text": [
      "Collecting comet_ml\n",
      "  Using cached comet_ml-3.39.3-py3-none-any.whl.metadata (4.0 kB)\n",
      "Requirement already satisfied: torch in /Users/nullzero/mambaforge/lib/python3.10/site-packages (2.1.1)\n",
      "Requirement already satisfied: tqdm in /Users/nullzero/mambaforge/lib/python3.10/site-packages (4.66.1)\n",
      "Requirement already satisfied: wandb in /Users/nullzero/mambaforge/lib/python3.10/site-packages (0.15.12)\n",
      "Requirement already satisfied: python-dotenv in /Users/nullzero/mambaforge/lib/python3.10/site-packages (1.0.1)\n",
      "Collecting everett<3.2.0,>=1.0.1 (from everett[ini]<3.2.0,>=1.0.1->comet_ml)\n",
      "  Using cached everett-3.1.0-py2.py3-none-any.whl.metadata (17 kB)\n",
      "Requirement already satisfied: jsonschema!=3.1.0,>=2.6.0 in /Users/nullzero/mambaforge/lib/python3.10/site-packages (from comet_ml) (4.19.2)\n",
      "Requirement already satisfied: psutil>=5.6.3 in /Users/nullzero/mambaforge/lib/python3.10/site-packages (from comet_ml) (5.9.6)\n",
      "Collecting python-box<7.0.0 (from comet_ml)\n",
      "  Using cached python_box-6.1.0-py3-none-any.whl.metadata (7.8 kB)\n",
      "Requirement already satisfied: requests-toolbelt>=0.8.0 in /Users/nullzero/mambaforge/lib/python3.10/site-packages (from comet_ml) (1.0.0)\n",
      "Requirement already satisfied: requests>=2.18.4 in /Users/nullzero/mambaforge/lib/python3.10/site-packages (from comet_ml) (2.31.0)\n",
      "Collecting semantic-version>=2.8.0 (from comet_ml)\n",
      "  Using cached semantic_version-2.10.0-py2.py3-none-any.whl.metadata (9.7 kB)\n",
      "Requirement already satisfied: sentry-sdk>=1.1.0 in /Users/nullzero/mambaforge/lib/python3.10/site-packages (from comet_ml) (1.34.0)\n",
      "Collecting simplejson (from comet_ml)\n",
      "  Using cached simplejson-3.19.2-cp310-cp310-macosx_11_0_arm64.whl.metadata (3.1 kB)\n",
      "Requirement already satisfied: six in /Users/nullzero/mambaforge/lib/python3.10/site-packages (from comet_ml) (1.16.0)\n",
      "Requirement already satisfied: urllib3>=1.21.1 in /Users/nullzero/mambaforge/lib/python3.10/site-packages (from comet_ml) (2.0.7)\n",
      "Collecting websocket-client<1.4.0,>=0.55.0 (from comet_ml)\n",
      "  Using cached websocket_client-1.3.3-py3-none-any.whl.metadata (6.9 kB)\n",
      "Requirement already satisfied: wrapt>=1.11.2 in /Users/nullzero/mambaforge/lib/python3.10/site-packages (from comet_ml) (1.16.0)\n",
      "Collecting wurlitzer>=1.0.2 (from comet_ml)\n",
      "  Using cached wurlitzer-3.0.3-py3-none-any.whl.metadata (1.9 kB)\n",
      "Requirement already satisfied: dulwich!=0.20.33,>=0.20.6 in /Users/nullzero/mambaforge/lib/python3.10/site-packages (from comet_ml) (0.21.6)\n",
      "Requirement already satisfied: rich>=13.3.2 in /Users/nullzero/mambaforge/lib/python3.10/site-packages (from comet_ml) (13.6.0)\n",
      "Requirement already satisfied: filelock in /Users/nullzero/mambaforge/lib/python3.10/site-packages (from torch) (3.13.1)\n",
      "Requirement already satisfied: typing-extensions in /Users/nullzero/mambaforge/lib/python3.10/site-packages (from torch) (4.10.0)\n",
      "Requirement already satisfied: sympy in /Users/nullzero/mambaforge/lib/python3.10/site-packages (from torch) (1.12)\n",
      "Requirement already satisfied: networkx in /Users/nullzero/mambaforge/lib/python3.10/site-packages (from torch) (3.2.1)\n",
      "Requirement already satisfied: jinja2 in /Users/nullzero/mambaforge/lib/python3.10/site-packages (from torch) (3.1.2)\n",
      "Requirement already satisfied: fsspec in /Users/nullzero/mambaforge/lib/python3.10/site-packages (from torch) (2023.10.0)\n",
      "Requirement already satisfied: Click!=8.0.0,>=7.1 in /Users/nullzero/mambaforge/lib/python3.10/site-packages (from wandb) (8.1.7)\n",
      "Requirement already satisfied: GitPython!=3.1.29,>=1.0.0 in /Users/nullzero/mambaforge/lib/python3.10/site-packages (from wandb) (3.1.40)\n",
      "Requirement already satisfied: docker-pycreds>=0.4.0 in /Users/nullzero/mambaforge/lib/python3.10/site-packages (from wandb) (0.4.0)\n",
      "Requirement already satisfied: PyYAML in /Users/nullzero/mambaforge/lib/python3.10/site-packages (from wandb) (6.0.1)\n",
      "Requirement already satisfied: pathtools in /Users/nullzero/mambaforge/lib/python3.10/site-packages (from wandb) (0.1.2)\n",
      "Requirement already satisfied: setproctitle in /Users/nullzero/mambaforge/lib/python3.10/site-packages (from wandb) (1.3.3)\n",
      "Requirement already satisfied: setuptools in /Users/nullzero/mambaforge/lib/python3.10/site-packages (from wandb) (68.2.2)\n",
      "Requirement already satisfied: appdirs>=1.4.3 in /Users/nullzero/mambaforge/lib/python3.10/site-packages (from wandb) (1.4.4)\n",
      "Requirement already satisfied: protobuf!=4.21.0,<5,>=3.19.0 in /Users/nullzero/mambaforge/lib/python3.10/site-packages (from wandb) (4.25.0)\n",
      "\u001b[31mERROR: Could not install packages due to an OSError: [Errno 2] No such file or directory: '/Users/nullzero/mambaforge/lib/python3.10/site-packages/click-8.1.7.dist-info/METADATA'\n",
      "\u001b[0m\u001b[31m\n",
      "\u001b[0m\n",
      "\u001b[1m[\u001b[0m\u001b[34;49mnotice\u001b[0m\u001b[1;39;49m]\u001b[0m\u001b[39;49m A new release of pip is available: \u001b[0m\u001b[31;49m23.3.1\u001b[0m\u001b[39;49m -> \u001b[0m\u001b[32;49m24.0\u001b[0m\n",
      "\u001b[1m[\u001b[0m\u001b[34;49mnotice\u001b[0m\u001b[1;39;49m]\u001b[0m\u001b[39;49m To update, run: \u001b[0m\u001b[32;49mpip install --upgrade pip\u001b[0m\n"
     ]
    },
    {
     "ename": "ModuleNotFoundError",
     "evalue": "No module named 'comet_ml'",
     "output_type": "error",
     "traceback": [
      "\u001b[0;31m---------------------------------------------------------------------------\u001b[0m",
      "\u001b[0;31mModuleNotFoundError\u001b[0m                       Traceback (most recent call last)",
      "Cell \u001b[0;32mIn[6], line 7\u001b[0m\n\u001b[1;32m      5\u001b[0m \u001b[38;5;28;01mimport\u001b[39;00m \u001b[38;5;21;01mtqdm\u001b[39;00m\n\u001b[1;32m      6\u001b[0m \u001b[38;5;28;01mimport\u001b[39;00m \u001b[38;5;21;01mwandb\u001b[39;00m\n\u001b[0;32m----> 7\u001b[0m \u001b[38;5;28;01mimport\u001b[39;00m \u001b[38;5;21;01mcomet_ml\u001b[39;00m\n\u001b[1;32m      8\u001b[0m \u001b[38;5;28;01mfrom\u001b[39;00m \u001b[38;5;21;01mdotenv\u001b[39;00m \u001b[38;5;28;01mimport\u001b[39;00m load_dotenv\n\u001b[1;32m      9\u001b[0m load_dotenv()\n",
      "\u001b[0;31mModuleNotFoundError\u001b[0m: No module named 'comet_ml'"
     ]
    }
   ],
   "source": [
    "!python3 -m venv raytorch\n",
    "!source raytorch/bin/activate\n",
    "!pip install comet_ml torch tqdm wandb python-dotenv\n",
    "import torch\n",
    "import tqdm\n",
    "import wandb\n",
    "import comet_ml\n",
    "from dotenv import load_dotenv\n",
    "load_dotenv()\n",
    "\n"
   ]
  },
  {
   "cell_type": "code",
   "execution_count": 4,
   "metadata": {},
   "outputs": [
    {
     "name": "stdout",
     "output_type": "stream",
     "text": [
      "Using mps device\n"
     ]
    }
   ],
   "source": [
    "# Get cpu, gpu or mps device for training.\n",
    "device = (\n",
    "    \"cuda\"\n",
    "    if torch.cuda.is_available()\n",
    "    else \"mps\"\n",
    "    if torch.backends.mps.is_available()\n",
    "    else \"cpu\"\n",
    ")\n",
    "print(f\"Using {device} device\")"
   ]
  },
  {
   "cell_type": "code",
   "execution_count": null,
   "metadata": {},
   "outputs": [],
   "source": [
    "# Initialize wandb\n",
    "wandb.login()\n",
    "sweep_config = {\n",
    "    'method': 'bayes',  # for example, Bayesian optimization\n",
    "    'metric': {\n",
    "        'name': 'loss',\n",
    "        'goal': 'minimize'   \n",
    "    },\n",
    "    'parameters': {\n",
    "        # Define your parameters here\n",
    "        'learning_rate': {\n",
    "            'min': 0.001,\n",
    "            'max': 0.1\n",
    "        }\n",
    "        # Add more parameters as needed\n",
    "    }\n",
    "}\n",
    "sweep_id = wandb.sweep(sweep_config, project=\"your_project_name\")\n",
    "\n",
    "# To log runs to wandb, integrate wandb with Ray Tune\n",
    "analysis = tune.run(\n",
    "    tune.with_parameters(\n",
    "        your_train_function,  # Define your training function\n",
    "        wandb=wandb,  # Pass wandb module\n",
    "        sweep_id=sweep_id\n",
    "    ),\n",
    "    resources_per_trial={\"cpu\": 1, \"gpu\": 0},  # Adjust as per your setup\n",
    "    num_samples=10,  # Number of trials\n",
    "    config=hyper_param_space  # Your hyperparameter space\n",
    ")\n",
    "\n",
    "# Fetch the best trial's hyperparameters\n",
    "best_trial = analysis.get_best_trial(\"loss\", \"min\", \"last\")\n",
    "print(\"Best trial config: {}\", best_trial.config)\n",
    "print(\"Best trial final validation loss: {}\", best_trial.last_result[\"loss\"])\n",
    "\n",
    "# Ensure to log the best trial's results to wandb\n",
    "wandb.log({\"Best Validation Loss\": best_trial.last_result[\"loss\"]})"
   ]
  },
  {
   "cell_type": "code",
   "execution_count": 5,
   "metadata": {},
   "outputs": [
    {
     "ename": "ModuleNotFoundError",
     "evalue": "No module named 'comet_ml'",
     "output_type": "error",
     "traceback": [
      "\u001b[0;31m---------------------------------------------------------------------------\u001b[0m",
      "\u001b[0;31mModuleNotFoundError\u001b[0m                       Traceback (most recent call last)",
      "Cell \u001b[0;32mIn[5], line 2\u001b[0m\n\u001b[1;32m      1\u001b[0m \u001b[38;5;66;03m#Logging\u001b[39;00m\n\u001b[0;32m----> 2\u001b[0m \u001b[38;5;28;01mimport\u001b[39;00m \u001b[38;5;21;01mcomet_ml\u001b[39;00m\n\u001b[1;32m      3\u001b[0m \u001b[38;5;28;01mfrom\u001b[39;00m \u001b[38;5;21;01mcomet_ml\u001b[39;00m\u001b[38;5;21;01m.\u001b[39;00m\u001b[38;5;21;01mintegration\u001b[39;00m\u001b[38;5;21;01m.\u001b[39;00m\u001b[38;5;21;01mpytorch\u001b[39;00m \u001b[38;5;28;01mimport\u001b[39;00m watch\n\u001b[1;32m      4\u001b[0m \u001b[38;5;28;01mimport\u001b[39;00m \u001b[38;5;21;01mtorch\u001b[39;00m\n",
      "\u001b[0;31mModuleNotFoundError\u001b[0m: No module named 'comet_ml'"
     ]
    }
   ],
   "source": [
    "#Logging\n",
    "import comet_ml\n",
    "from comet_ml.integration.pytorch import watch\n",
    "import torch\n",
    "\n",
    "experiment = comet_ml.Experiment(\n",
    "    api_key=\"<Your API Key>\",\n",
    "    project_name=\"<Your Project Name>\"\n",
    ")\n",
    "\n",
    "# Your code here\n",
    "\n"
   ]
  },
  {
   "cell_type": "code",
   "execution_count": null,
   "metadata": {},
   "outputs": [],
   "source": []
  },
  {
   "cell_type": "markdown",
   "metadata": {},
   "source": [
    "# PyTorch Mdoel\n"
   ]
  },
  {
   "cell_type": "code",
   "execution_count": null,
   "metadata": {},
   "outputs": [],
   "source": [
    "model = get_model()\n",
    "watch(model)"
   ]
  }
 ],
 "metadata": {
  "kernelspec": {
   "display_name": "nerun",
   "language": "python",
   "name": "nerun"
  },
  "language_info": {
   "codemirror_mode": {
    "name": "ipython",
    "version": 3
   },
   "file_extension": ".py",
   "mimetype": "text/x-python",
   "name": "python",
   "nbconvert_exporter": "python",
   "pygments_lexer": "ipython3",
   "version": "3.11.9"
  }
 },
 "nbformat": 4,
 "nbformat_minor": 2
}
